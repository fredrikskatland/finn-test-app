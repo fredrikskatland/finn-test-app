{
 "cells": [
  {
   "cell_type": "code",
   "execution_count": 1,
   "metadata": {},
   "outputs": [],
   "source": [
    "from bs4 import BeautifulSoup\n",
    "import requests\n",
    "\n",
    "def extract_text_from(url):\n",
    "    html = requests.get(url).text\n",
    "    soup = BeautifulSoup(html, features=\"html.parser\")\n",
    "    text = soup.get_text()\n",
    "\n",
    "    lines = (line.strip() for line in text.splitlines())\n",
    "    return '\\n'.join(line for line in lines if line)"
   ]
  },
  {
   "cell_type": "code",
   "execution_count": 2,
   "metadata": {},
   "outputs": [],
   "source": [
    "import xmltodict\n",
    "\n",
    "r = requests.get(\"https://www.finn.no/feed/job/atom.xml?rows=200\")\n",
    "xml = r.text\n",
    "raw = xmltodict.parse(xml)"
   ]
  },
  {
   "cell_type": "code",
   "execution_count": null,
   "metadata": {},
   "outputs": [],
   "source": [
    "pages = []\n",
    "for info in raw['feed']['entry']:\n",
    "    url = info['link']['@href']\n",
    "    if 'https://www.finn.no/' in url:\n",
    "        pages.append({'text': extract_text_from(url), 'source': url})"
   ]
  },
  {
   "cell_type": "code",
   "execution_count": null,
   "metadata": {},
   "outputs": [],
   "source": [
    "from langchain.text_splitter import RecursiveCharacterTextSplitter\n",
    "\n",
    "text_splitter = RecursiveCharacterTextSplitter(chunk_size=2000)\n",
    "docs, metadatas = [], []\n",
    "for page in pages:\n",
    "    splits = text_splitter.split_text(page['text'])\n",
    "    docs.extend(splits)\n",
    "    metadatas.extend([{\"source\": page['source']}] * len(splits))\n",
    "    print(f\"Split {page['source']} into {len(splits)} chunks\")\n"
   ]
  },
  {
   "cell_type": "code",
   "execution_count": 3,
   "metadata": {},
   "outputs": [
    {
     "name": "stderr",
     "output_type": "stream",
     "text": [
      "c:\\Users\\fredr\\AppData\\Local\\Programs\\Python\\Python310\\lib\\site-packages\\langchain\\chains\\qa_with_sources\\vector_db.py:68: UserWarning: `VectorDBQAWithSourcesChain` is deprecated - please use `from langchain.chains import RetrievalQAWithSourcesChain`\n",
      "  warnings.warn(\n"
     ]
    }
   ],
   "source": [
    "import faiss\n",
    "from langchain.chat_models  import ChatOpenAI\n",
    "from langchain import OpenAI\n",
    "from langchain.chains import VectorDBQAWithSourcesChain\n",
    "#from langchain.chains import RetrievalQAWithSourcesChain\n",
    "import pickle\n",
    "\n",
    "with open(\"faiss_store.pkl\", \"rb\") as f:\n",
    "    store = pickle.load(f)\n",
    "\n",
    "chain = VectorDBQAWithSourcesChain.from_llm(\n",
    "#chain = RetrievalQAWithSourcesChain.from_llm(\n",
    "            llm=OpenAI(temperature=0), vectorstore=store)"
   ]
  },
  {
   "cell_type": "code",
   "execution_count": 4,
   "metadata": {},
   "outputs": [
    {
     "name": "stdout",
     "output_type": "stream",
     "text": [
      "Svar:  There are several job postings for servitør positions in Norway.\n",
      "\n",
      "Annonser: https://www.finn.no/312389367\n",
      "https://www.finn.no/312407873\n",
      "https://www.finn.no/312456004\n",
      "https://www.finn.no/312424930\n"
     ]
    }
   ],
   "source": [
    "result = chain({\"question\": \"Leter etter servitørjobb\"})\n",
    "\n",
    "print(f\"Svar: {result['answer']}\")\n",
    "print(f\"Annonser: {result['sources']}\")"
   ]
  },
  {
   "cell_type": "code",
   "execution_count": 5,
   "metadata": {},
   "outputs": [],
   "source": [
    "def finn_query(message, history=\"\"):\n",
    "    result = chain({\"question\": message})\n",
    "    result_string = f\"Svar: {result['answer']}\\nAnnonser: {result['sources']}\"\n",
    "    return result_string"
   ]
  },
  {
   "cell_type": "code",
   "execution_count": 7,
   "metadata": {},
   "outputs": [],
   "source": [
    "import gradio as gr"
   ]
  },
  {
   "cell_type": "code",
   "execution_count": 13,
   "metadata": {},
   "outputs": [
    {
     "name": "stdout",
     "output_type": "stream",
     "text": [
      "Running on local URL:  http://127.0.0.1:7863\n",
      "Running on public URL: https://8f2d1e106faa5be0d4.gradio.live\n",
      "\n",
      "This share link expires in 72 hours. For free permanent hosting and GPU upgrades, run `gradio deploy` from Terminal to deploy to Spaces (https://huggingface.co/spaces)\n"
     ]
    },
    {
     "data": {
      "text/html": [
       "<div><iframe src=\"https://8f2d1e106faa5be0d4.gradio.live\" width=\"100%\" height=\"500\" allow=\"autoplay; camera; microphone; clipboard-read; clipboard-write;\" frameborder=\"0\" allowfullscreen></iframe></div>"
      ],
      "text/plain": [
       "<IPython.core.display.HTML object>"
      ]
     },
     "metadata": {},
     "output_type": "display_data"
    },
    {
     "data": {
      "text/plain": []
     },
     "execution_count": 13,
     "metadata": {},
     "output_type": "execute_result"
    }
   ],
   "source": [
    "demo = gr.ChatInterface(finn_query, title=\"Søk etter stillinger på finn.no\", description=\"Basert på 200 stillingsannonser fra finn.no (https://www.finn.no/feed/job/atom.xml?rows=200).\"\n",
    ", examples=[\"Jeg leter etter servitørjobb.\"\n",
    ",\"Jeg ser etter sykepleierstillinger.\"\n",
    ",\"Er det noen ledige lederstillinger ute?\"])\n",
    "\n",
    "demo.launch(share=True)"
   ]
  },
  {
   "cell_type": "code",
   "execution_count": 14,
   "metadata": {},
   "outputs": [],
   "source": [
    "gr.close_all()"
   ]
  },
  {
   "cell_type": "code",
   "execution_count": null,
   "metadata": {},
   "outputs": [],
   "source": []
  }
 ],
 "metadata": {
  "kernelspec": {
   "display_name": "Python 3",
   "language": "python",
   "name": "python3"
  },
  "language_info": {
   "codemirror_mode": {
    "name": "ipython",
    "version": 3
   },
   "file_extension": ".py",
   "mimetype": "text/x-python",
   "name": "python",
   "nbconvert_exporter": "python",
   "pygments_lexer": "ipython3",
   "version": "3.10.10"
  },
  "orig_nbformat": 4
 },
 "nbformat": 4,
 "nbformat_minor": 2
}
